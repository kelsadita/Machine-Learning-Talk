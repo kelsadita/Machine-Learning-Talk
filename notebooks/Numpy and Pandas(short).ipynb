{
 "cells": [
  {
   "cell_type": "markdown",
   "metadata": {},
   "source": [
    "## Imports"
   ]
  },
  {
   "cell_type": "code",
   "execution_count": 2,
   "metadata": {
    "collapsed": false
   },
   "outputs": [],
   "source": [
    "%matplotlib inline\n",
    "import matplotlib.pyplot as plt\n",
    "import numpy as np\n",
    "import pandas as pd"
   ]
  },
  {
   "cell_type": "markdown",
   "metadata": {},
   "source": [
    "## NumPy\n",
    "---"
   ]
  },
  {
   "cell_type": "code",
   "execution_count": 3,
   "metadata": {
    "collapsed": true
   },
   "outputs": [],
   "source": [
    "# First 20 countries with employment data\n",
    "countries = np.array([\n",
    "    'Afghanistan', 'Albania', 'Algeria', 'Angola', 'Argentina',\n",
    "    'Armenia', 'Australia', 'Austria', 'Azerbaijan', 'Bahamas',\n",
    "    'Bahrain', 'Bangladesh', 'Barbados', 'Belarus', 'Belgium',\n",
    "    'Belize', 'Benin', 'Bhutan', 'Bolivia',\n",
    "    'Bosnia and Herzegovina'\n",
    "])\n",
    "\n",
    "# Employment data in 2007 for those 20 countries\n",
    "employment = np.array([\n",
    "    55.70000076,  51.40000153,  50.5       ,  75.69999695,\n",
    "    58.40000153,  40.09999847,  61.5       ,  57.09999847,\n",
    "    60.90000153,  66.59999847,  60.40000153,  68.09999847,\n",
    "    66.90000153,  53.40000153,  48.59999847,  56.79999924,\n",
    "    71.59999847,  58.40000153,  70.40000153,  41.20000076\n",
    "])\n",
    "\n",
    "twod_array = np.array([[1, 2, 3], [5, 6, 7]])"
   ]
  },
  {
   "cell_type": "markdown",
   "metadata": {},
   "source": [
    "## Shape\n",
    "Getting the information shape of the data"
   ]
  },
  {
   "cell_type": "code",
   "execution_count": 4,
   "metadata": {
    "collapsed": false
   },
   "outputs": [
    {
     "name": "stdout",
     "output_type": "stream",
     "text": [
      "(20,)\n",
      "(20,)\n",
      "(2, 3)\n"
     ]
    }
   ],
   "source": [
    "print(countries.shape)\n",
    "print(employment.shape)\n",
    "print(twod_array.shape)"
   ]
  },
  {
   "cell_type": "markdown",
   "metadata": {},
   "source": [
    "## Indexing and Slicing"
   ]
  },
  {
   "cell_type": "code",
   "execution_count": 6,
   "metadata": {
    "collapsed": false
   },
   "outputs": [
    {
     "name": "stdout",
     "output_type": "stream",
     "text": [
      "Afghanistan\n",
      "['Albania' 'Algeria' 'Angola']\n"
     ]
    }
   ],
   "source": [
    "print(countries[0])\n",
    "print(countries[1:4])"
   ]
  },
  {
   "cell_type": "code",
   "execution_count": 12,
   "metadata": {
    "collapsed": false
   },
   "outputs": [
    {
     "name": "stdout",
     "output_type": "stream",
     "text": [
      "[[1 2 3]\n",
      " [5 6 7]]\n",
      "\n",
      "Row at the index 1: [5 6 7]\n",
      "\n",
      "Column at the index 1: [2 6]\n"
     ]
    }
   ],
   "source": [
    "print(twod_array)\n",
    "\n",
    "print(\"\\nRow at the index 1:\", twod_array[1])\n",
    "print(\"\\nColumn at the index 1:\", twod_array[:, 1])"
   ]
  },
  {
   "cell_type": "markdown",
   "metadata": {},
   "source": [
    "### Other operations\n",
    "Apart from basic indexing and slicing operation, Numpy arrays has various utility methods to accomplish tasks from\n",
    "the domain of,\n",
    "1. Statistics\n",
    "2. Linear Algebra\n",
    "3. Ploting and Charting\n",
    "\n",
    "**Note:** Refer the notebook: 5.Numpy-Introduction"
   ]
  },
  {
   "cell_type": "markdown",
   "metadata": {},
   "source": [
    "## Pandas\n",
    "---\n",
    "\n",
    "1. Basic unit of operation: Series\n",
    "2. NumPy arrays are souped-up python lists\n",
    "3. Pandas series is cross between list and dictionary\n",
    "4. Pandas is written on the top of NumPy"
   ]
  },
  {
   "cell_type": "code",
   "execution_count": 14,
   "metadata": {
    "collapsed": false
   },
   "outputs": [
    {
     "data": {
      "text/plain": [
       "0    1\n",
       "1    2\n",
       "2    3\n",
       "3    4\n",
       "dtype: int64"
      ]
     },
     "execution_count": 14,
     "metadata": {},
     "output_type": "execute_result"
    }
   ],
   "source": [
    "pd.Series(np.array([1, 2, 3, 4]))"
   ]
  },
  {
   "cell_type": "markdown",
   "metadata": {},
   "source": [
    "### Create dataframe from countries and employment numpy arrays"
   ]
  },
  {
   "cell_type": "code",
   "execution_count": 16,
   "metadata": {
    "collapsed": false
   },
   "outputs": [
    {
     "data": {
      "text/html": [
       "<div>\n",
       "<table border=\"1\" class=\"dataframe\">\n",
       "  <thead>\n",
       "    <tr style=\"text-align: right;\">\n",
       "      <th></th>\n",
       "      <th>countries</th>\n",
       "      <th>employment</th>\n",
       "    </tr>\n",
       "  </thead>\n",
       "  <tbody>\n",
       "    <tr>\n",
       "      <th>0</th>\n",
       "      <td>Afghanistan</td>\n",
       "      <td>55.700001</td>\n",
       "    </tr>\n",
       "    <tr>\n",
       "      <th>1</th>\n",
       "      <td>Albania</td>\n",
       "      <td>51.400002</td>\n",
       "    </tr>\n",
       "    <tr>\n",
       "      <th>2</th>\n",
       "      <td>Algeria</td>\n",
       "      <td>50.500000</td>\n",
       "    </tr>\n",
       "    <tr>\n",
       "      <th>3</th>\n",
       "      <td>Angola</td>\n",
       "      <td>75.699997</td>\n",
       "    </tr>\n",
       "    <tr>\n",
       "      <th>4</th>\n",
       "      <td>Argentina</td>\n",
       "      <td>58.400002</td>\n",
       "    </tr>\n",
       "  </tbody>\n",
       "</table>\n",
       "</div>"
      ],
      "text/plain": [
       "     countries  employment\n",
       "0  Afghanistan   55.700001\n",
       "1      Albania   51.400002\n",
       "2      Algeria   50.500000\n",
       "3       Angola   75.699997\n",
       "4    Argentina   58.400002"
      ]
     },
     "execution_count": 16,
     "metadata": {},
     "output_type": "execute_result"
    }
   ],
   "source": [
    "employment_df = pd.DataFrame({'countries': countries, 'employment': employment})\n",
    "employment_df.head()"
   ]
  },
  {
   "cell_type": "markdown",
   "metadata": {},
   "source": [
    "### Exploring DataFrame"
   ]
  },
  {
   "cell_type": "code",
   "execution_count": 19,
   "metadata": {
    "collapsed": false
   },
   "outputs": [
    {
     "name": "stdout",
     "output_type": "stream",
     "text": [
      "Shape:  (20, 2)\n",
      "\n",
      "Mean employment 58.6850000385\n"
     ]
    }
   ],
   "source": [
    "print(\"Shape: \", employment_df.shape)\n",
    "print(\"\\nMean employment\", employment_df.employment.mean())"
   ]
  },
  {
   "cell_type": "markdown",
   "metadata": {},
   "source": [
    "### Ploting"
   ]
  },
  {
   "cell_type": "code",
   "execution_count": 40,
   "metadata": {
    "collapsed": false
   },
   "outputs": [
    {
     "data": {
      "text/plain": [
       "[<matplotlib.text.Text at 0x10baafe10>,\n",
       " <matplotlib.text.Text at 0x10bbc90b8>,\n",
       " <matplotlib.text.Text at 0x10bbf7400>,\n",
       " <matplotlib.text.Text at 0x10bbf7e10>,\n",
       " <matplotlib.text.Text at 0x10bbfa860>,\n",
       " <matplotlib.text.Text at 0x10bbfd2b0>,\n",
       " <matplotlib.text.Text at 0x10bbfdcc0>,\n",
       " <matplotlib.text.Text at 0x10bc02710>,\n",
       " <matplotlib.text.Text at 0x10bc06160>,\n",
       " <matplotlib.text.Text at 0x10bc06b70>,\n",
       " <matplotlib.text.Text at 0x10bc0a5c0>,\n",
       " <matplotlib.text.Text at 0x10bc0afd0>,\n",
       " <matplotlib.text.Text at 0x10bc0ea20>,\n",
       " <matplotlib.text.Text at 0x10bc12470>,\n",
       " <matplotlib.text.Text at 0x10bc12e80>,\n",
       " <matplotlib.text.Text at 0x10bc168d0>,\n",
       " <matplotlib.text.Text at 0x10bc19320>,\n",
       " <matplotlib.text.Text at 0x10bc19d30>,\n",
       " <matplotlib.text.Text at 0x10bc20780>,\n",
       " <matplotlib.text.Text at 0x10bc231d0>]"
      ]
     },
     "execution_count": 40,
     "metadata": {},
     "output_type": "execute_result"
    },
    {
     "data": {
      "image/png": "[encoded data removed]",
      "text/plain": [
       "<matplotlib.figure.Figure at 0x10babac50>"
      ]
     },
     "metadata": {},
     "output_type": "display_data"
    }
   ],
   "source": [
    "employment_plot = employment_df.employment.plot(xticks=employment_df.index)\n",
    "\n",
    "employment_plot.set_xticklabels(employment_df.countries,  rotation=90)"
   ]
  },
  {
   "cell_type": "code",
   "execution_count": null,
   "metadata": {
    "collapsed": true
   },
   "outputs": [],
   "source": []
  }
 ],
 "metadata": {
  "kernelspec": {
   "display_name": "Python 3",
   "language": "python",
   "name": "python3"
  },
  "language_info": {
   "codemirror_mode": {
    "name": "ipython",
    "version": 3
   },
   "file_extension": ".py",
   "mimetype": "text/x-python",
   "name": "python",
   "nbconvert_exporter": "python",
   "pygments_lexer": "ipython3",
   "version": "3.5.1"
  }
 },
 "nbformat": 4,
 "nbformat_minor": 2
}
